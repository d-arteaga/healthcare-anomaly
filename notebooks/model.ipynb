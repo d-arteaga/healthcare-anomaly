{
 "cells": [
  {
   "cell_type": "code",
   "execution_count": null,
   "id": "bb3cd83c",
   "metadata": {},
   "outputs": [],
   "source": [
    "# Load the processed data from .pkl files\n",
    "loaded_patient_dataframes = {}\n",
    "\n",
    "for filename in os.listdir(output_dir):\n",
    "    if filename.endswith(\"_processed.pkl\"):\n",
    "        patient_id = filename.split(\"_\")[0]  # Extract patient ID from the filename\n",
    "        file_path = os.path.join(output_dir, filename)\n",
    "        with open(file_path, \"rb\") as file:\n",
    "            loaded_patient_dataframes[patient_id] = pickle.load(file)\n",
    "        print(f\"Loaded processed data for patient {patient_id} from {file_path}\")"
   ]
  }
 ],
 "metadata": {
  "language_info": {
   "name": "python"
  }
 },
 "nbformat": 4,
 "nbformat_minor": 5
}

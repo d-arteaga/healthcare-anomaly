{
 "cells": [
  {
   "cell_type": "code",
   "execution_count": 1,
   "id": "5406f15e",
   "metadata": {},
   "outputs": [],
   "source": [
    "import numpy as np\n",
    "import pandas as pd\n",
    "import yaml\n",
    "import os\n",
    "import pickle"
   ]
  },
  {
   "cell_type": "code",
   "execution_count": 2,
   "id": "3e381916",
   "metadata": {},
   "outputs": [
    {
     "name": "stdout",
     "output_type": "stream",
     "text": [
      "Data path loaded from YAML: C:/Users/darte/Documents/Projects/healthcare-anomaly/data/PPG_FieldStudy\n"
     ]
    }
   ],
   "source": [
    "with open(\"../config/path.yaml\", \"r\") as file:  # Replace with your path to your YAML file\n",
    "    config = yaml.safe_load(file) \n",
    "\n",
    "data_path = config.get(\"raw_data\") \n",
    "if not data_path:\n",
    "    raise ValueError(\"Data path not found in the YAML configuration.\")\n",
    "\n",
    "print(f\"Data path loaded from YAML: {data_path}\") "
   ]
  },
  {
   "cell_type": "code",
   "execution_count": 3,
   "id": "575d9c6f",
   "metadata": {},
   "outputs": [
    {
     "name": "stdout",
     "output_type": "stream",
     "text": [
      "Found 15 patient folders in the data path.\n"
     ]
    }
   ],
   "source": [
    "if not os.path.exists(data_path):\n",
    "    raise FileNotFoundError(f\"The specified data path does not exist: {data_path}\")\n",
    "if not os.path.isdir(data_path):\n",
    "    raise NotADirectoryError(f\"The specified data path is not a directory: {data_path}\")\n",
    "\n",
    "patient_folders = [os.path.join(data_path, folder) for folder in os.listdir(data_path) if os.path.isdir(os.path.join(data_path, folder))]\n",
    "\n",
    "print(f\"Found {len(patient_folders)} patient folders in the data path.\")  # Optional: Print the number of patient folders found\n"
   ]
  },
  {
   "cell_type": "code",
   "execution_count": 4,
   "id": "ed29ca86",
   "metadata": {},
   "outputs": [
    {
     "name": "stdout",
     "output_type": "stream",
     "text": [
      "Keys in raw data for patient S1: dict_keys(['rpeaks', 'signal', 'label', 'activity', 'questionnaire', 'subject'])\n",
      "Sample data: {'rpeaks': array([    240,    1174,    2128, ..., 6447292, 6447748, 6448224]), 'signal': {'chest': {'ACC': array([[ 0.85640001, -0.06779999, -0.36559999],\n",
      "       [ 0.8556    , -0.06900001, -0.3646    ],\n",
      "       [ 0.852     , -0.07020003, -0.3642    ],\n",
      "       ...,\n",
      "       [ 0.88759995, -0.1038    , -0.27920002],\n",
      "       [ 0.88619995, -0.10159999, -0.27819997],\n",
      "       [ 0.88680005, -0.10140002, -0.27380002]]), 'ECG': array([[0.01560974],\n",
      "       [0.01812744],\n",
      "       [0.01753235],\n",
      "       ...,\n",
      "       [0.21368408],\n",
      "       [0.21556091],\n",
      "       [0.21702576]]), 'EMG': array([[-1.5],\n",
      "       [-1.5],\n",
      "       [-1.5],\n",
      "       ...,\n",
      "       [-1.5],\n",
      "       [-1.5],\n",
      "       [-1.5]]), 'EDA': array([[0.],\n",
      "       [0.],\n",
      "       [0.],\n",
      "       ...,\n",
      "       [0.],\n",
      "       [0.],\n",
      "       [0.]]), 'Temp': array([[-273.15],\n",
      "       [-273.15],\n",
      "       [-273.15],\n",
      "       ...,\n",
      "       [-273.15],\n",
      "       [-273.15],\n",
      "       [-273.15]], dtype=float32), 'Resp': array([[ 4.4418335 ],\n",
      "       [ 4.45098877],\n",
      "       [ 4.47387695],\n",
      "       ...,\n",
      "       [-3.05023193],\n",
      "       [-3.05328369],\n",
      "       [-3.05633545]])}, 'wrist': {'ACC': array([[-0.765625, -0.078125,  0.671875],\n",
      "       [-0.765625, -0.078125,  0.65625 ],\n",
      "       [-0.765625, -0.078125,  0.671875],\n",
      "       ...,\n",
      "       [-0.375   , -0.015625,  0.9375  ],\n",
      "       [-0.390625,  0.      ,  0.9375  ],\n",
      "       [-0.375   ,  0.      ,  0.9375  ]]), 'BVP': array([[  7.28],\n",
      "       [  6.33],\n",
      "       [  5.46],\n",
      "       ...,\n",
      "       [105.02],\n",
      "       [109.44],\n",
      "       [111.06]]), 'EDA': array([[4.722437],\n",
      "       [4.728843],\n",
      "       [4.718594],\n",
      "       ...,\n",
      "       [3.170867],\n",
      "       [3.159336],\n",
      "       [3.151649]]), 'TEMP': array([[32.13],\n",
      "       [32.16],\n",
      "       [32.16],\n",
      "       ...,\n",
      "       [34.37],\n",
      "       [34.37],\n",
      "       [34.37]])}}, 'label': array([49.61136908, 50.32399248, 52.70833578, ..., 84.004991  ,\n",
      "       85.79625673, 87.4113988 ]), 'activity': array([[0.],\n",
      "       [0.],\n",
      "       [0.],\n",
      "       ...,\n",
      "       [0.],\n",
      "       [0.],\n",
      "       [0.]]), 'questionnaire': {'WEIGHT': 78.0, 'Gender': ' m', 'AGE': 34, 'HEIGHT': 182.0, 'SKIN': 3, 'SPORT': 6}, 'subject': 'S1'}\n"
     ]
    }
   ],
   "source": [
    "import pickle\n",
    "import os\n",
    "\n",
    "# Example: Load and view raw data for the first patient folder\n",
    "if patient_folders:\n",
    "    first_patient_folder = patient_folders[0]\n",
    "    patient_id = os.path.basename(first_patient_folder)\n",
    "    pkl_file = os.path.join(first_patient_folder, f\"{patient_id}.pkl\")\n",
    "    \n",
    "    if os.path.exists(pkl_file):\n",
    "        with open(pkl_file, \"rb\") as file:\n",
    "            raw_data = pickle.load(file, encoding=\"latin1\")\n",
    "        \n",
    "        # Print the keys and a sample of the data\n",
    "        print(f\"Keys in raw data for patient {patient_id}: {raw_data.keys()}\")\n",
    "        print(f\"Sample data: {raw_data}\")\n",
    "    else:\n",
    "        print(f\"No .pkl file found for patient {patient_id}.\")\n",
    "else:\n",
    "    print(\"No patient folders found.\")"
   ]
  },
  {
   "cell_type": "code",
   "execution_count": 5,
   "id": "59e10698",
   "metadata": {},
   "outputs": [
    {
     "name": "stdout",
     "output_type": "stream",
     "text": [
      "Patient S1 has 4603 rows.\n",
      "Patient S10 has 5321 rows.\n",
      "Patient S11 has 4521 rows.\n",
      "Patient S12 has 3954 rows.\n",
      "Patient S13 has 4565 rows.\n",
      "Patient S14 has 4476 rows.\n",
      "Patient S15 has 3966 rows.\n",
      "Patient S2 has 4099 rows.\n",
      "Patient S3 has 4367 rows.\n",
      "Patient S4 has 4572 rows.\n",
      "Patient S5 has 4649 rows.\n",
      "Patient S6 has 2622 rows.\n",
      "Patient S7 has 4668 rows.\n",
      "Patient S8 has 4037 rows.\n",
      "Patient S9 has 4277 rows.\n"
     ]
    }
   ],
   "source": [
    "# Iterate through all patient folders\n",
    "for folder in patient_folders:\n",
    "    patient_id = os.path.basename(folder)\n",
    "    pkl_file = os.path.join(folder, f\"{patient_id}.pkl\")\n",
    "    \n",
    "    if os.path.exists(pkl_file):\n",
    "        with open(pkl_file, \"rb\") as file:\n",
    "            raw_data = pickle.load(file, encoding=\"latin1\")\n",
    "        \n",
    "        # Assuming 'label' or 'signal' keys exist in the raw data\n",
    "        if \"label\" in raw_data:\n",
    "            num_rows = len(raw_data[\"label\"])  # Count rows based on labels\n",
    "            print(f\"Patient {patient_id} has {num_rows} rows.\")\n",
    "        else:\n",
    "            print(f\"Patient {patient_id} does not have 'label' data.\")\n",
    "    else:\n",
    "        print(f\"No .pkl file found for patient {patient_id}.\")"
   ]
  },
  {
   "cell_type": "code",
   "execution_count": 6,
   "id": "cb3686c8",
   "metadata": {},
   "outputs": [
    {
     "name": "stdout",
     "output_type": "stream",
     "text": [
      "Wrist temperature data for patient S1:\n",
      "[[32.13]\n",
      " [32.16]\n",
      " [32.16]\n",
      " ...\n",
      " [34.37]\n",
      " [34.37]\n",
      " [34.37]]\n"
     ]
    }
   ],
   "source": [
    "import os\n",
    "import pickle\n",
    "\n",
    "# Example: Access wrist temperature data for Patient 1\n",
    "patient_id = \"S1\"  # Replace with the desired patient ID\n",
    "data_path = \"c:/Users/darte/Documents/Projects/healthcare-anomaly/data/PPG_FieldStudy\"  # Replace with your actual data path\n",
    "\n",
    "# Construct the path to the patient's folder and .pkl file\n",
    "patient_folder = os.path.join(data_path, patient_id)\n",
    "pkl_file = os.path.join(patient_folder, f\"{patient_id}.pkl\")\n",
    "\n",
    "# Check if the .pkl file exists\n",
    "if os.path.exists(pkl_file):\n",
    "    with open(pkl_file, \"rb\") as file:\n",
    "        raw_data = pickle.load(file, encoding=\"latin1\")\n",
    "    \n",
    "    # Access the wrist temperature data\n",
    "    if \"signal\" in raw_data and \"wrist\" in raw_data[\"signal\"] and \"TEMP\" in raw_data[\"signal\"][\"wrist\"]:\n",
    "        wrist_temperature_data = raw_data[\"signal\"][\"wrist\"][\"TEMP\"]\n",
    "        print(f\"Wrist temperature data for patient {patient_id}:\")\n",
    "        print(wrist_temperature_data)\n",
    "    else:\n",
    "        print(f\"Wrist temperature data not found for patient {patient_id}.\")\n",
    "else:\n",
    "    print(f\"No .pkl file found for patient {patient_id}.\")"
   ]
  },
  {
   "cell_type": "code",
   "execution_count": 7,
   "id": "de4fd8b6",
   "metadata": {},
   "outputs": [
    {
     "name": "stdout",
     "output_type": "stream",
     "text": [
      "Chest respiration data for patient S1:\n",
      "[[ 4.4418335 ]\n",
      " [ 4.45098877]\n",
      " [ 4.47387695]\n",
      " ...\n",
      " [-3.05023193]\n",
      " [-3.05328369]\n",
      " [-3.05633545]]\n"
     ]
    }
   ],
   "source": [
    "import os\n",
    "import pickle\n",
    "\n",
    "# Example: Access chest respiration data for Patient 1\n",
    "patient_id = \"S1\"  # Replace with the desired patient ID\n",
    "data_path = \"c:/Users/darte/Documents/Projects/healthcare-anomaly/data/PPG_FieldStudy\"  # Replace with your actual data path\n",
    "\n",
    "# Construct the path to the patient's folder and .pkl file\n",
    "patient_folder = os.path.join(data_path, patient_id)\n",
    "pkl_file = os.path.join(patient_folder, f\"{patient_id}.pkl\")\n",
    "\n",
    "# Check if the .pkl file exists\n",
    "if os.path.exists(pkl_file):\n",
    "    with open(pkl_file, \"rb\") as file:\n",
    "        raw_data = pickle.load(file, encoding=\"latin1\")\n",
    "    \n",
    "    # Access the chest respiration data\n",
    "    if \"signal\" in raw_data and \"chest\" in raw_data[\"signal\"] and \"Resp\" in raw_data[\"signal\"][\"chest\"]:\n",
    "        chest_respiration_data = raw_data[\"signal\"][\"chest\"][\"Resp\"]\n",
    "        print(f\"Chest respiration data for patient {patient_id}:\")\n",
    "        print(chest_respiration_data)\n",
    "    else:\n",
    "        print(f\"Chest respiration data not found for patient {patient_id}.\")\n",
    "else:\n",
    "    print(f\"No .pkl file found for patient {patient_id}.\")"
   ]
  },
  {
   "cell_type": "code",
   "execution_count": 8,
   "id": "9102e788",
   "metadata": {},
   "outputs": [
    {
     "data": {
      "image/png": "[encoded data removed]",
      "text/plain": [
       "<Figure size 640x480 with 1 Axes>"
      ]
     },
     "metadata": {},
     "output_type": "display_data"
    }
   ],
   "source": [
    "import matplotlib.pyplot as plt\n",
    "\n",
    "# Plot the respiration signal\n",
    "plt.plot(chest_respiration_data)\n",
    "plt.title(\"Respiration Signal\")\n",
    "plt.xlabel(\"Time (samples)\")\n",
    "plt.ylabel(\"Amplitude\")\n",
    "plt.show()"
   ]
  },
  {
   "cell_type": "code",
   "execution_count": 18,
   "id": "06469403",
   "metadata": {},
   "outputs": [
    {
     "name": "stdout",
     "output_type": "stream",
     "text": [
      "[[32.13]\n",
      " [32.16]\n",
      " [32.16]\n",
      " [32.16]\n",
      " [32.16]]\n"
     ]
    }
   ],
   "source": [
    "print(wrist_temperature_data[:5])"
   ]
  },
  {
   "cell_type": "code",
   "execution_count": 16,
   "id": "291468ff",
   "metadata": {},
   "outputs": [
    {
     "name": "stdout",
     "output_type": "stream",
     "text": [
      "First 5 rows of BVP data for patient 1:\n",
      "[[7.28]\n",
      " [6.33]\n",
      " [5.46]\n",
      " [4.6 ]\n",
      " [3.74]]\n"
     ]
    }
   ],
   "source": [
    "# Access the BVP data for patient 1\n",
    "if \"signal\" in raw_data and \"wrist\" in raw_data[\"signal\"] and \"BVP\" in raw_data[\"signal\"][\"wrist\"]:\n",
    "    bvp_data = raw_data[\"signal\"][\"wrist\"][\"BVP\"]\n",
    "    print(\"First 5 rows of BVP data for patient 1:\")\n",
    "    print(bvp_data[:5])\n",
    "else:\n",
    "    print(\"BVP data not found for patient 1.\")"
   ]
  },
  {
   "cell_type": "code",
   "execution_count": 17,
   "id": "5059dd08",
   "metadata": {},
   "outputs": [
    {
     "name": "stdout",
     "output_type": "stream",
     "text": [
      "First 5 rows of ACC data for patient 1:\n",
      "[[-0.765625 -0.078125  0.671875]\n",
      " [-0.765625 -0.078125  0.65625 ]\n",
      " [-0.765625 -0.078125  0.671875]\n",
      " [-0.765625 -0.078125  0.671875]\n",
      " [-0.75     -0.078125  0.671875]]\n"
     ]
    }
   ],
   "source": [
    "# Access the ACC data for patient 1\n",
    "if \"signal\" in raw_data and \"wrist\" in raw_data[\"signal\"] and \"ACC\" in raw_data[\"signal\"][\"wrist\"]:\n",
    "    acc_data = raw_data[\"signal\"][\"wrist\"][\"ACC\"]\n",
    "    print(\"First 5 rows of ACC data for patient 1:\")\n",
    "    print(acc_data[:5])\n",
    "else:\n",
    "    print(\"ACC data not found for patient 1.\")"
   ]
  }
 ],
 "metadata": {
  "kernelspec": {
   "display_name": "healthcare_anomaly",
   "language": "python",
   "name": "python3"
  },
  "language_info": {
   "codemirror_mode": {
    "name": "ipython",
    "version": 3
   },
   "file_extension": ".py",
   "mimetype": "text/x-python",
   "name": "python",
   "nbconvert_exporter": "python",
   "pygments_lexer": "ipython3",
   "version": "3.8.20"
  }
 },
 "nbformat": 4,
 "nbformat_minor": 5
}
